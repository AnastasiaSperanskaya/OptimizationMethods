{
  "nbformat": 4,
  "nbformat_minor": 0,
  "metadata": {
    "colab": {
      "name": "lab3.ipynb",
      "provenance": [],
      "collapsed_sections": [],
      "toc_visible": true,
      "include_colab_link": true
    },
    "kernelspec": {
      "name": "python3",
      "display_name": "Python 3"
    }
  },
  "cells": [
    {
      "cell_type": "markdown",
      "metadata": {
        "id": "view-in-github",
        "colab_type": "text"
      },
      "source": [
        "<a href=\"https://colab.research.google.com/github/AnastasiaSperanskaya/OptimizationMethodsITMO/blob/master/lab3/lab3.ipynb\" target=\"_parent\"><img src=\"https://colab.research.google.com/assets/colab-badge.svg\" alt=\"Open In Colab\"/></a>"
      ]
    },
    {
      "cell_type": "code",
      "metadata": {
        "id": "6U2Oh3_krlZL"
      },
      "source": [
        "import numpy as np\n",
        "import pandas as pd\n",
        "import matplotlib.pyplot as plt\n",
        "from prettytable import PrettyTable"
      ],
      "execution_count": null,
      "outputs": []
    },
    {
      "cell_type": "markdown",
      "metadata": {
        "id": "cLHWY56VrYtL"
      },
      "source": [
        "##CRS хранение матрицы"
      ]
    },
    {
      "cell_type": "markdown",
      "metadata": {
        "id": "nHDYmvXWivw6"
      },
      "source": [
        ">$A_{m,n} =\n",
        " \\begin{pmatrix}\n",
        "  1 & 2 & 0 & 4\\\\\n",
        "  5 & 0 & 7 & 0\\\\\n",
        "  0 & 0 & 9 & 11\\\\\n",
        "  1 & 0 & 3 & 4\n",
        " \\end{pmatrix}$\n",
        "\n",
        ">data = [ 1, 2, 4, 5, 7, 9, 11, 1, 3, 4 ]\n",
        "\n",
        ">indicies = [ 0, 1, 3, 0, 2, 2, 3, 0, 2, 3 ]\n",
        "\n",
        ">indptr = [ 1, 3, 5, 7, 10 ]"
      ]
    },
    {
      "cell_type": "code",
      "metadata": {
        "id": "6lAWgqLVuQYo"
      },
      "source": [
        "def toCRS(matrix):\n",
        "  data = np.array([])\n",
        "  indicies = np.int_([])\n",
        "  indptr = np.array([1])\n",
        "  for i in range(len(matrix)):\n",
        "      for j in range(len(matrix[0])):\n",
        "        if matrix[i][j] != 0:\n",
        "          data = np.append(data, matrix[i][j])\n",
        "          indicies = np.append(indicies, j)\n",
        "      indptr = np.append(indptr, data.shape[0])\n",
        "  return data, indicies, indptr\n",
        "\n",
        "def fromCRS(data, indicies, indptr):\n",
        "  n = indptr.shape[0] - 1\n",
        "  matrix = np.zeros((n, n))\n",
        "  indptr[0] = 0\n",
        "  j = 0\n",
        "  for i in  range(n):\n",
        "    for k in range(indptr[i+1] - indptr[i]):\n",
        "      matrix[i, indicies[j]] = data[j]\n",
        "      j += 1\n",
        "  indptr[0] = 1\n",
        "  return matrix"
      ],
      "execution_count": null,
      "outputs": []
    },
    {
      "cell_type": "code",
      "metadata": {
        "id": "NLpUe7M4qgaq"
      },
      "source": [
        "def getElementFromCSR(data, indicies, indptr, x, y):\n",
        "  n = indptr.shape[0] - 1\n",
        "  indptr[0] = 0\n",
        "  j = 0\n",
        "  result = 0\n",
        "  for i in  range(n):\n",
        "    for k in range(indptr[i+1] - indptr[i]):\n",
        "      if i == x-1 and indicies[j] == y-1:\n",
        "        result = data[j]\n",
        "      j += 1\n",
        "  indptr[0] = 1\n",
        "  return result\n",
        "\n",
        "def setElementFromCSR(data, indicies, indptr, x, y, value):\n",
        "  n = indptr.shape[0] - 1\n",
        "  indptr[0] = 0\n",
        "\n",
        "  j = 0\n",
        "  for i in  range(n):\n",
        "    for k in range(indptr[i+1] - indptr[i]):\n",
        "      if i == x-1 and indicies[j] == y-1:\n",
        "        data[j] = value\n",
        "        return data, indicies, indptr\n",
        "      j += 1\n",
        "\n",
        "  if value != 0:\n",
        "    for i in range(x, indptr.size):\n",
        "      indptr[i] = indptr[i]+1\n",
        "    indicies = np.insert(indicies, indptr[x]-2, y-1)\n",
        "    data = np.insert(data, indptr[x]-2, value)\n",
        "  else:\n",
        "    for i in range(x, indptr.size):\n",
        "      indptr[i] = indptr[i]-1\n",
        "    indicies = np.delete(indicies, indptr[x]-1)\n",
        "    data = np.delete(data, indptr[x]-1)\n",
        "\n",
        "  indptr[0] = 1\n",
        "  return data, indicies, indptr"
      ],
      "execution_count": null,
      "outputs": []
    },
    {
      "cell_type": "code",
      "metadata": {
        "colab": {
          "base_uri": "https://localhost:8080/"
        },
        "id": "632Gw0_twqcZ",
        "outputId": "a7ec5756-7d92-43f4-8465-921ca0ecfb9f"
      },
      "source": [
        "matrix = np.array([[1,2,3],[4,0,6],[0,8,9]])\n",
        "print('Original matrix: \\n', matrix, '\\n')\n",
        "\n",
        "data, indicies, indptr = toCRS(matrix)\n",
        "print('Converting matrix to CRS: \\ndata:', data, '\\nindicies:', indicies, '\\nindptr:', indptr, '\\n')\n",
        "\n",
        "print('Converting CRS-matrix to original: \\n', fromCRS(data, indicies, indptr))"
      ],
      "execution_count": null,
      "outputs": [
        {
          "output_type": "stream",
          "text": [
            "Original matrix: \n",
            " [[1 2 3]\n",
            " [4 0 6]\n",
            " [0 8 9]] \n",
            "\n",
            "Converting matrix to CRS: \n",
            "data: [1. 2. 3. 4. 6. 8. 9.] \n",
            "indicies: [0 1 2 0 2 1 2] \n",
            "indptr: [1 3 5 7] \n",
            "\n",
            "Converting CRS-matrix to original: \n",
            " [[1. 2. 3.]\n",
            " [4. 0. 6.]\n",
            " [0. 8. 9.]]\n"
          ],
          "name": "stdout"
        }
      ]
    },
    {
      "cell_type": "code",
      "metadata": {
        "colab": {
          "base_uri": "https://localhost:8080/"
        },
        "id": "Qbx6xIr-rjoz",
        "outputId": "5f1f6806-e217-4c0e-cf72-b93709713527"
      },
      "source": [
        "getElementFromCSR(data, indicies, indptr, 2, 2)"
      ],
      "execution_count": null,
      "outputs": [
        {
          "output_type": "execute_result",
          "data": {
            "text/plain": [
              "0"
            ]
          },
          "metadata": {
            "tags": []
          },
          "execution_count": 5
        }
      ]
    },
    {
      "cell_type": "code",
      "metadata": {
        "colab": {
          "base_uri": "https://localhost:8080/"
        },
        "id": "85PhrGmYsYof",
        "outputId": "2f8d7db3-4ce9-4320-af3e-80357afb0e0b"
      },
      "source": [
        "data, indicies, indptr = setElementFromCSR(data, indicies, indptr, 3, 1, 4)\n",
        "print('Converting CRS-matrix to original: \\n', fromCRS(data, indicies, indptr))"
      ],
      "execution_count": null,
      "outputs": [
        {
          "output_type": "stream",
          "text": [
            "Converting CRS-matrix to original: \n",
            " [[1. 2. 3.]\n",
            " [4. 0. 6.]\n",
            " [4. 8. 9.]]\n"
          ],
          "name": "stdout"
        }
      ]
    },
    {
      "cell_type": "code",
      "metadata": {
        "colab": {
          "base_uri": "https://localhost:8080/"
        },
        "id": "aJCBAlQQ_HTu",
        "outputId": "6a781885-0472-4df4-a0fc-48ab657f5ce4"
      },
      "source": [
        "data, indicies, indptr = setElementFromCSR(data, indicies, indptr, 3, 3, 0)\n",
        "print('Converting CRS-matrix to original: \\n', fromCRS(data, indicies, indptr))"
      ],
      "execution_count": null,
      "outputs": [
        {
          "output_type": "stream",
          "text": [
            "Converting CRS-matrix to original: \n",
            " [[1. 2. 3.]\n",
            " [4. 0. 6.]\n",
            " [4. 8. 0.]]\n"
          ],
          "name": "stdout"
        }
      ]
    },
    {
      "cell_type": "code",
      "metadata": {
        "id": "DI_ouDyYMMmt"
      },
      "source": [
        "data1 = np.array([])\n",
        "indicies1 = np.array([])\n",
        "indptr1 = np.array([])\n",
        "print('Converting CRS-matrix to original: \\n', fromCRS(data1, indicies1, indptr1))"
      ],
      "execution_count": null,
      "outputs": []
    },
    {
      "cell_type": "markdown",
      "metadata": {
        "id": "DY9OsyF49Fxm"
      },
      "source": [
        "#LU-разложение матрицы"
      ]
    },
    {
      "cell_type": "markdown",
      "metadata": {
        "id": "EvZNiK0Lsii7"
      },
      "source": [
        ">$A=LU$ \n",
        "\n",
        "Распишем матричное уравнение:\n",
        "\n",
        ">$$\\begin{align}\n",
        "    \\begin{bmatrix}\n",
        "           1 & 0 & \\ldots & 0\\\\\n",
        "           l_{21} & 1 & \\ldots & 0\\\\\n",
        "           \\vdots & \\vdots & \\ddots & \\vdots\\\\\n",
        "           l_{n1} & l_{n2} & \\ldots & 1\n",
        "         \\end{bmatrix} & \\begin{bmatrix}\n",
        "           u_{11} & u_{12} & \\ldots & u_{1n}\\\\\n",
        "           0 & u_{22} & \\ldots & u_{2n}\\\\\n",
        "           \\vdots & \\vdots & \\ddots & \\vdots\\\\\n",
        "           0 & 0 & \\ldots & u_{nn}\n",
        "         \\end{bmatrix}=\\begin{bmatrix}\n",
        "           a_{11} & a_{12} & \\ldots & a_{1n}\\\\\n",
        "           a_{21} & a_{22} & \\ldots & a_{2n}\\\\\n",
        "           \\vdots & \\vdots & \\ddots & \\vdots\\\\\n",
        "           a_{n1} & a_{n2} & \\ldots & a_{nn}\n",
        "         \\end{bmatrix}\n",
        "\\end{align}$$\n",
        "\n",
        "Перемножим матрицы:\n",
        "\n",
        ">$$\\begin{align}\n",
        "    \\begin{bmatrix}\n",
        "           a_{11} = u_{11} & a_{12} = u_{12} & a_{13} = u_{13} & \\ldots & a_{1n} = u_{1n}\\\\\n",
        "           a_{21} = l_{21}u_{11} & a_{22} = l_{21}u_{12}+u_{22} & a_{23} = l_{21}u_{13}+u_{23} & \\ldots & a_{2n} = l_{21}u_{1n}+u_{2n}\\\\\n",
        "           a_{31} = l_{31}u_{11} & a_{32} = l_{31}u_{12}+l_{32}u_{22} & a_{33} = l_{31}u_{13}+l_{32}u_{23}+u_{33} & \\ldots & a_{3n} = l_{31}u_{1n}+l_{32}u_{2n}+u_{3n}\\\\\n",
        "           \\vdots & \\vdots & \\vdots & \\ddots & \\vdots\\\\\n",
        "           a_{n1} = l_{n1}u_{11} & a_{n2} = l_{n1}u_{12}+l_{n2}u_{22} & a_{n3} = l_{n1}u_{13}+l_{n2}u_{23}+l_{n3}u_{33} & \\ldots & a_{nn} =l_{n1}u_{1n}+l_{n2}u_{2n}+...+l_{nn}u_{nn}\\\\\n",
        "         \\end{bmatrix}\n",
        "\\end{align}$$\n",
        "\n",
        "Представим в виде формул:\n",
        "\n",
        ">$$u_{1j} = a_{1j} \\ , при \\ j = 1...n \\ (из \\ 1й \\ строки)$$\\\n",
        "$$l_{i1} = \\frac{a_{i1}}{u_{11}} \\ , при \\ i = 2...n \\ (из \\ 1го \\ столбца)$$\\\n",
        "$$u_{2j} = a_{2j} - l_{21}u_{1j} \\ , при \\ j = 2...n \\ (из \\ 2й \\ строки)$$\\\n",
        "$$l_{i2} = \\frac{a_{i2}-l_{i1}u_{12}}{u_{22}} \\ , при \\ i = 3...n \\ (из \\ 2го \\ столбца)$$\n",
        "\n",
        "Обобщив, получаем формулы для вычисления элементов треугольных матриц:\n",
        "\n",
        ">$$u_{ij} = a_{ij} - \\sum_{k=1}^{i-1}l_{ik}u_{kj} \\ (i \\le j - выше \\ главной \\  диагонали)$$\\\n",
        "$$l_{ij} = \\frac{a_{ij} - \\sum_{k=1}^{j-1}l_{ik}u_{kj}}{u_{jj}} \\ (i > j - ниже \\ главной \\  диагонали)$$\n"
      ]
    },
    {
      "cell_type": "markdown",
      "metadata": {
        "id": "Ig_eoZ4XUech"
      },
      "source": [
        ""
      ]
    },
    {
      "cell_type": "code",
      "metadata": {
        "id": "pXbn24he1fBO"
      },
      "source": [
        "def decomposeToLU(A):\n",
        "    L = np.matrix(np.zeros([A.shape[0], A.shape[1]]))\n",
        "    U = np.matrix(np.zeros([A.shape[0], A.shape[1]]))\n",
        "    n = A.shape[0]\n",
        "\n",
        "    for i in range(L.shape[0]):\n",
        "            L[i, i] = 1\n",
        "\n",
        "    for k in range(n):\n",
        "        for j in range(k, n):\n",
        "            U[k, j] = A[k, j] - L[k, :k] * U[:k, j]\n",
        "        for i in range(k + 1, n):\n",
        "            if U[k, k] != 0:\n",
        "              L[i, k] = (A[i, k] - L[i, : k] * U[: k, k]) / U[k, k]\n",
        "            else:\n",
        "              return print('Error - division by zero (matrix is not appropriate for LU)')\n",
        "    return L, U"
      ],
      "execution_count": null,
      "outputs": []
    },
    {
      "cell_type": "code",
      "metadata": {
        "colab": {
          "base_uri": "https://localhost:8080/"
        },
        "id": "Q9QIxgqx1uiA",
        "outputId": "61e0e0fa-d0ee-456c-ee46-4131ce752305"
      },
      "source": [
        "L, U = decomposeToLU(matrix)\n",
        "print('L-matrix:\\n', L, '\\n\\nU-matrix:\\n', U)"
      ],
      "execution_count": null,
      "outputs": [
        {
          "output_type": "stream",
          "text": [
            "L-matrix:\n",
            " [[ 1.  0.  0.]\n",
            " [ 4.  1.  0.]\n",
            " [ 0. -1.  1.]] \n",
            "\n",
            "U-matrix:\n",
            " [[ 1.  2.  3.]\n",
            " [ 0. -8. -6.]\n",
            " [ 0.  0.  3.]]\n"
          ],
          "name": "stdout"
        }
      ]
    },
    {
      "cell_type": "markdown",
      "metadata": {
        "id": "9d5wvh9__wMc"
      },
      "source": [
        "#Решение системы с помощью LU-разложения"
      ]
    },
    {
      "cell_type": "markdown",
      "metadata": {
        "id": "FoQGjUz3Rar3"
      },
      "source": [
        ">$AX=B$\n",
        "\n",
        "Рассмотрим разложение матрицы $A$ в виде $LU$:\n",
        "\n",
        ">$LUX=B$\n",
        "\n",
        "Введем вспомогательный вектор $Y = (y_{1}...y_{n})^T$:\n",
        "\n",
        ">\\begin{cases}\n",
        "   UX=Y\\\\\n",
        "   LY=B\n",
        " \\end{cases}\n",
        "\n",
        " Сначала ищем $Y$ (прямой ход метода Гаусса):\n",
        "\n",
        " >$$\\begin{align}\n",
        "    \\begin{bmatrix}\n",
        "           1 & 0 & \\ldots & 0\\\\\n",
        "           l_{21} & 1 & \\ldots & 0\\\\\n",
        "           \\vdots & \\vdots & \\ddots & \\vdots\\\\\n",
        "           l_{n1} & l_{n2} & \\ldots & 1\n",
        "         \\end{bmatrix} & \\begin{bmatrix}\n",
        "           y_{1}\\\\\n",
        "           y_{2}\\\\\n",
        "           \\vdots\\\\\n",
        "           y_{n}\n",
        "         \\end{bmatrix}=\\begin{bmatrix}\n",
        "           b_{1}\\\\\n",
        "           b_{2}\\\\\n",
        "           \\vdots\\\\\n",
        "           b_{n}\n",
        "         \\end{bmatrix}\n",
        "\\end{align}$$\n",
        "\n",
        "Составим систему уравнений:\n",
        "\n",
        " >$$\\begin{align}\n",
        "    \\begin{cases}\n",
        "   y_{1}=b_{1}\\\\\n",
        "   l_{21}y_{1}+y_{2}=b_{2}\\\\\n",
        "   l_{31}y_{1}+l_{32}y_{2}+y_{3}=b_{3}\\\\\n",
        "   ...\\\\\n",
        "   l_{n1}y_{1}+l_{n2}y_{2}+...+y_{n}=b_{n}\n",
        " \\end{cases} & \\begin{cases}\n",
        "   y_{1}=b_{1}\\\\\n",
        "   y_{2}=b_{2}-l_{21}y_{1}\\\\\n",
        "   y_{3}=b_{3}-l_{31}y_{1}-l_{32}y_{2}\\\\\n",
        "   ...\\\\\n",
        "   y_{n}=b_{n}-l_{n1}y_{1}-l_{n2}y_{2}-...-l_{nn-1}y_{n-1}\n",
        " \\end{cases}\n",
        "\\end{align}$$\n",
        "\n",
        "Обобщив, получим формулу для вычисления каждого значения в уравнении системы $LY=B$:\n",
        "\n",
        ">$$y_{i} = b_{i}-\\sum_{k=1}^{i-1}l_{ik}y_{k}$$\n",
        "\n",
        "Ищем $X$ (обратный ход метода Гаусса):\n",
        "\n",
        " >$$\\begin{align}\n",
        "    \\begin{bmatrix}\n",
        "           u_{11} & u_{12} & \\ldots & u_{1n}\\\\\n",
        "           0 & u_{22} & \\ldots & u_{2n}\\\\\n",
        "           \\vdots & \\vdots & \\ddots & \\vdots\\\\\n",
        "           0 & 0 & \\ldots & u_{nn}\n",
        "         \\end{bmatrix} & \\begin{bmatrix}\n",
        "           x_{1}\\\\\n",
        "           x_{2}\\\\\n",
        "           \\vdots\\\\\n",
        "           x_{n}\n",
        "         \\end{bmatrix}=\\begin{bmatrix}\n",
        "           y_{1}\\\\\n",
        "           y_{2}\\\\\n",
        "           \\vdots\\\\\n",
        "           y_{n}\n",
        "         \\end{bmatrix}\n",
        "\\end{align}$$\n",
        "\n",
        "Составим систему уравнений:\n",
        "\n",
        " >$$\\begin{align}\n",
        "    \\begin{cases}\n",
        "   y_{1}=u_{1n}x_{n}+...+u_{12}x_{2}+u_{11}x_{1}\\\\\n",
        "   y_{2}=u_{2n}x_{n}+...+u_{22}x_{2}\\\\\n",
        "   ...\\\\\n",
        "   y_{n}=u_{nn}x_{n}\n",
        " \\end{cases} & \\begin{cases}\n",
        "   x_{1}=\\frac{y_{1}-u_{1n}x_{n}-...-u_{12}x_{2}}{u_{11}}\\\\\n",
        "   ...\\\\\n",
        "   x_{n-1}=\\frac{y_{n-1}-u_{n-1n}x_{n}}{u_{n-1n-1}}\\\\\n",
        "   x_{n}=\\frac{y_{n}}{u_{nn}}\n",
        " \\end{cases}\n",
        "\\end{align}$$\n",
        "\n",
        "Обобщив, получим формулу для вычисления каждого значения в уравнении системы $UX=Y$:\n",
        "\n",
        ">$$x_{i} = \\frac{y_{i}-\\sum_{k=i+1}^{n}u_{ik}x_{k}}{u_{ii}}$$"
      ]
    },
    {
      "cell_type": "code",
      "metadata": {
        "id": "WABIk-Ov7nCa"
      },
      "source": [
        "def solveLU(A, B):\n",
        "  L, U = decomposeToLU(A)\n",
        "  Y = np.zeros(L.shape[0])\n",
        "  X = np.zeros(U.shape[0])\n",
        "  n = U.shape[0] - 1\n",
        "\n",
        "  for i in range(L.shape[0]):\n",
        "    Y[i] = (B[i] - sum([L[i, j]*Y[j] for j in range(i)]))\n",
        "\n",
        "  for i in range(U.shape[0]):\n",
        "    X[n-i] = (Y[n-i] - sum([U[n-i, n-j]*X[n-j] for j in range(i)])) / U[n-i, n-i]\n",
        "\n",
        "  return X"
      ],
      "execution_count": null,
      "outputs": []
    },
    {
      "cell_type": "code",
      "metadata": {
        "colab": {
          "base_uri": "https://localhost:8080/"
        },
        "id": "1QiNB4eSC012",
        "outputId": "790e312a-c29f-492a-d905-eb027bbd4245"
      },
      "source": [
        "a = np.array([[16, 2, 0, -2], [4, 20, 1, 0], [2, 0, 10, 0], [-4, 0, 4, 32]])\n",
        "b = np.array([-13, 24, 7, 0])\n",
        "x = solveLU(a, b)\n",
        "print('The salvation:\\n', x)"
      ],
      "execution_count": null,
      "outputs": [
        {
          "output_type": "stream",
          "text": [
            "The salvation:\n",
            " [-1.01207572  1.35729439  0.90241514 -0.23931136]\n"
          ],
          "name": "stdout"
        }
      ]
    },
    {
      "cell_type": "code",
      "metadata": {
        "colab": {
          "base_uri": "https://localhost:8080/"
        },
        "id": "D0VsAHJHFCZS",
        "outputId": "23dd7a22-8988-4690-c0da-c9bbf200c10b"
      },
      "source": [
        "print('Checkup:\\n', a@x, '\\n\\nInitial result:\\n', b)"
      ],
      "execution_count": null,
      "outputs": [
        {
          "output_type": "stream",
          "text": [
            "Checkup:\n",
            " [-13.  24.   7.   0.] \n",
            "\n",
            "Initial result:\n",
            " [-13  24   7   0]\n"
          ],
          "name": "stdout"
        }
      ]
    },
    {
      "cell_type": "markdown",
      "metadata": {
        "id": "cSrPTlRF9M70"
      },
      "source": [
        "#Нахождение обратной матрицы\n",
        "##(используя LU-разложение)"
      ]
    },
    {
      "cell_type": "markdown",
      "metadata": {
        "id": "Jt88qqRA-kpw"
      },
      "source": [
        "Обращение матрицы A эквивалентно решению линейной системы\n",
        "\n",
        "$AX=I$ \n",
        "\n",
        "где $X$ — неизвестная матрица, $I$ — единичная матрица. Решение $X$ этой системы является обратной матрицей $A^{-1}$.\n",
        "\n",
        "Систему можно решить описанным выше методом LU-разложения."
      ]
    },
    {
      "cell_type": "code",
      "metadata": {
        "id": "_O9yHHNC9aCj"
      },
      "source": [
        "def getInvert(A):\n",
        "  result = []\n",
        "  I = np.zeros(A.shape)\n",
        "  for i in range(A.shape[0]):\n",
        "    I[i, i] = 1\n",
        "    result.append(solveLU(A, I[i]))\n",
        "  \n",
        "  return np.array(result).T"
      ],
      "execution_count": null,
      "outputs": []
    },
    {
      "cell_type": "code",
      "metadata": {
        "colab": {
          "base_uri": "https://localhost:8080/"
        },
        "id": "MvgyVwkwFAM9",
        "outputId": "a9335cbb-4626-4177-e805-abafb551be30"
      },
      "source": [
        "matrixToInvert = np.array([[1, 2],[3, 4]])\n",
        "print('Inverted matrix:\\n', getInvert(matrixToInvert))"
      ],
      "execution_count": null,
      "outputs": [
        {
          "output_type": "stream",
          "text": [
            "Inverted matrix:\n",
            " [[-2.   1. ]\n",
            " [ 1.5 -0.5]]\n"
          ],
          "name": "stdout"
        }
      ]
    },
    {
      "cell_type": "markdown",
      "metadata": {
        "id": "JrniZBacpQZq"
      },
      "source": [
        "#Исследование влияния числа обусловленности на точность решения (1)\n"
      ]
    },
    {
      "cell_type": "code",
      "metadata": {
        "id": "U6LmslSGph7C"
      },
      "source": [
        "def generateMatrix(size):\n",
        "    matrix = np.random.randint(-5, 1, size**2).reshape(-1, size)\n",
        "    matrix = matrix.astype(float)\n",
        "    for i in range(size):\n",
        "      matrix[i, i] = sum(matrix[i]) - matrix[i, i] + 10**(-size)\n",
        "    return matrix"
      ],
      "execution_count": null,
      "outputs": []
    },
    {
      "cell_type": "code",
      "metadata": {
        "id": "P3WdrOOKp0hQ"
      },
      "source": [
        "def makeReport(startSize, endSize):\n",
        "    currentSize = []\n",
        "    conditionNumber = []\n",
        "    error = []\n",
        "    table = PrettyTable()\n",
        "\n",
        "    for k in range(startSize, endSize+1):\n",
        "      expected = np.array([i+1 for i in range(k)])\n",
        "      A = generateMatrix(k)\n",
        "      F = A @ expected                 \n",
        "      result = solveLU(A, F)\n",
        "      currentSize.append(k)\n",
        "      error.append(np.linalg.norm(expected - result))\n",
        "      conditionNumber.append(np.linalg.cond(A))\n",
        "\n",
        "    table.add_column(\"Current Size\",currentSize)\n",
        "    table.add_column(\"Condition Number\", conditionNumber)\n",
        "    table.add_column(\"Error\", error)\n",
        "\n",
        "    plt.plot(conditionNumber, error, 'bo')\n",
        "    plt.xlabel(\"Conditional number\")\n",
        "    plt.ylabel(\"Error\")\n",
        "    plt.grid(True)\n",
        "    plot = plt\n",
        "\n",
        "    return table, plot"
      ],
      "execution_count": null,
      "outputs": []
    },
    {
      "cell_type": "code",
      "metadata": {
        "colab": {
          "base_uri": "https://localhost:8080/",
          "height": 741
        },
        "id": "D0PBW_CWt67k",
        "outputId": "8fc7eeb6-2d5c-49ac-c948-db437c371eef"
      },
      "source": [
        "report, plot = makeReport(4, 25)\n",
        "print(report)\n",
        "plot.show()"
      ],
      "execution_count": null,
      "outputs": [
        {
          "output_type": "stream",
          "text": [
            "+--------------+--------------------+------------------------+\n",
            "| Current Size |  Condition Number  |         Error          |\n",
            "+--------------+--------------------+------------------------+\n",
            "|      4       | 8.659376397408083  | 6.280369834735101e-16  |\n",
            "|      5       | 6.643967983090364  | 1.3732700395566711e-15 |\n",
            "|      6       | 8.637242331133866  | 2.318213734067276e-15  |\n",
            "|      7       | 7.332712496629175  | 1.6050308076832566e-15 |\n",
            "|      8       | 4.851702690755525  | 3.3984432745746066e-15 |\n",
            "|      9       | 4.714568950406179  | 2.7733362266239673e-15 |\n",
            "|      10      | 3.6272787374208963 | 2.560743305106871e-15  |\n",
            "|      11      | 4.377673018234239  | 4.289830510009564e-15  |\n",
            "|      12      | 4.539918586590688  | 4.690610161234867e-15  |\n",
            "|      13      | 3.578184356654966  | 7.182207712846219e-15  |\n",
            "|      14      | 3.5278282583710263 | 5.9910909847502765e-15 |\n",
            "|      15      | 3.996736364529297  | 3.9968028886505635e-15 |\n",
            "|      16      | 3.8600914739737417 | 5.773159728050814e-15  |\n",
            "|      17      |  3.4248639391292   | 6.377745716588144e-15  |\n",
            "|      18      | 3.1378423436706213 | 6.2488890859448035e-15 |\n",
            "|      19      | 3.047712569371921  | 6.676124710113433e-15  |\n",
            "|      20      | 2.916339079311429  | 8.140289677804162e-15  |\n",
            "|      21      | 3.1517584364653883 | 5.221590278516806e-15  |\n",
            "|      22      | 3.3722086395350734 | 8.426000324584083e-15  |\n",
            "|      23      | 3.3230407361545775 | 1.1941479580451577e-14 |\n",
            "|      24      | 2.982868315477764  | 1.0068198762484779e-14 |\n",
            "|      25      | 2.949222861542988  | 1.067662871904967e-14  |\n",
            "+--------------+--------------------+------------------------+\n"
          ],
          "name": "stdout"
        },
        {
          "output_type": "display_data",
          "data": {
            "image/png": "[encoded data removed]",
            "text/plain": [
              "<Figure size 432x288 with 1 Axes>"
            ]
          },
          "metadata": {
            "tags": [],
            "needs_background": "light"
          }
        }
      ]
    },
    {
      "cell_type": "markdown",
      "metadata": {
        "id": "HUFCDdXXpiaN"
      },
      "source": [
        "#Исследование на матрицах Гилберта"
      ]
    },
    {
      "cell_type": "code",
      "metadata": {
        "id": "WvzRjhmmpntG"
      },
      "source": [
        "def generateGilbertMatrix(size):\n",
        "    matrix = np.zeros((size, size))\n",
        "    for i in range(size):\n",
        "      for j in range(size):\n",
        "        matrix[i, j] = 1 / ((i + 1) + (j + 1) - 1)\n",
        "    return matrix"
      ],
      "execution_count": null,
      "outputs": []
    },
    {
      "cell_type": "code",
      "metadata": {
        "id": "Zd_v3_QI2BMA"
      },
      "source": [
        "def makeGilbertReport(startSize, endSize):\n",
        "    currentSize = []\n",
        "    conditionNumber = []\n",
        "    error = []\n",
        "    table = PrettyTable()\n",
        "\n",
        "    for k in range(startSize, endSize+1):\n",
        "      expected = np.array([i+1 for i in range(k)])\n",
        "      A = generateGilbertMatrix(k)\n",
        "      F = A @ expected                 \n",
        "      result = solveLU(A, F)\n",
        "      currentSize.append(k)\n",
        "      error.append(np.linalg.norm(expected - result))\n",
        "      conditionNumber.append(np.linalg.cond(A))\n",
        "\n",
        "    table.add_column(\"Current Size\",currentSize)\n",
        "    table.add_column(\"Condition Number\", conditionNumber)\n",
        "    table.add_column(\"Error\", error)\n",
        "\n",
        "    plt.plot(conditionNumber, error, 'bo')\n",
        "    plt.xlabel(\"Conditional number\")\n",
        "    plt.ylabel(\"Error\")\n",
        "    plt.grid(True)\n",
        "    plot = plt\n",
        "\n",
        "    return table, plot"
      ],
      "execution_count": null,
      "outputs": []
    },
    {
      "cell_type": "code",
      "metadata": {
        "colab": {
          "base_uri": "https://localhost:8080/",
          "height": 746
        },
        "id": "kkgDfH7c2IHv",
        "outputId": "55dfdf2d-1fe0-45df-e959-d72483a85b75"
      },
      "source": [
        "gilbertReport, gilbertPlot = makeGilbertReport(3, 25)\n",
        "print(gilbertReport)\n",
        "gilbertPlot.show()"
      ],
      "execution_count": null,
      "outputs": [
        {
          "output_type": "stream",
          "text": [
            "+--------------+------------------------+------------------------+\n",
            "| Current Size |    Condition Number    |         Error          |\n",
            "+--------------+------------------------+------------------------+\n",
            "|      3       |   524.0567775860627    | 1.4895204919483639e-15 |\n",
            "|      4       |   15513.738738929662   | 2.430106513481488e-12  |\n",
            "|      5       |   476607.2502419595    | 8.790022972690218e-11  |\n",
            "|      6       |   14951058.641879061   | 2.338622621334871e-09  |\n",
            "|      7       |   475367356.9028203    | 5.2640614558407474e-08 |\n",
            "|      8       |   15257575505.048504   | 2.447095518097245e-06  |\n",
            "|      9       |   493153563504.81415   | 0.00010833458838307278 |\n",
            "|      10      |   16024905787698.326   |  0.002059742002724448  |\n",
            "|      11      |   522518134089746.8    |  0.30958616755790797   |\n",
            "|      12      | 1.643080577584755e+16  |   10.508594327304563   |\n",
            "|      13      | 5.729989400507761e+18  |   313.2362426013723    |\n",
            "|      14      |  3.25920065289962e+17  |   154.78320050724204   |\n",
            "|      15      | 4.4193794499857517e+17 |   64.92592543241665    |\n",
            "|      16      | 8.260202121289064e+18  |   364.9713420730126    |\n",
            "|      17      | 1.1963372192370002e+18 |   362.2271042115385    |\n",
            "|      18      | 1.711031621048699e+18  |   283.2993514908916    |\n",
            "|      19      | 9.586490373784824e+18  |   5569.481624288083    |\n",
            "|      20      | 1.0609689967044024e+18 |   1301.0049637710868   |\n",
            "|      21      | 3.4747552266107853e+18 |    8881.61860675019    |\n",
            "|      22      | 2.992549004860593e+18  |   900.0034830349562    |\n",
            "|      23      | 1.0668159582142258e+18 |   941.8570205750825    |\n",
            "|      24      | 1.2357353442385697e+18 |   1118.5952800467046   |\n",
            "|      25      | 4.364042021783144e+18  |   2875.007051257681    |\n",
            "+--------------+------------------------+------------------------+\n"
          ],
          "name": "stdout"
        },
        {
          "output_type": "display_data",
          "data": {
            "image/png": "[encoded data removed]",
            "text/plain": [
              "<Figure size 432x288 with 1 Axes>"
            ]
          },
          "metadata": {
            "tags": [],
            "needs_background": "light"
          }
        }
      ]
    },
    {
      "cell_type": "markdown",
      "metadata": {
        "id": "X10-BkR2Cf9u"
      },
      "source": [
        "#Исследование влияния числа обусловленности на точность решения (2)"
      ]
    },
    {
      "cell_type": "code",
      "metadata": {
        "id": "sBb4nUvZENUQ"
      },
      "source": [
        "def generateMatrix2(size):\n",
        "    matrix = np.random.randint(-5, 1, size**2).reshape(-1, size)\n",
        "    matrix = matrix.astype(float)\n",
        "    for i in range(size):\n",
        "      matrix[i, i] = sum(matrix[i]) - matrix[i, i]\n",
        "    return matrix"
      ],
      "execution_count": null,
      "outputs": []
    },
    {
      "cell_type": "code",
      "metadata": {
        "id": "Nkp3XmfBENyv"
      },
      "source": [
        "def makeReport2(size, k):\n",
        "    currentDisturb = []\n",
        "    conditionNumber = []\n",
        "    error = []\n",
        "    table = PrettyTable()\n",
        "    expected = np.array([i+1 for i in range(size)])\n",
        "    A = generateMatrix2(size)\n",
        "    F = A @ expected  \n",
        "\n",
        "    for pow in range(1, k+1):\n",
        "      #adding disturb to generating matrix\n",
        "      for i in range(size):\n",
        "        A[i][i] = A[i][i] - 10**(-pow) + 10**(-(pow-1))\n",
        "\n",
        "      result = solveLU(A, F)\n",
        "      currentDisturb.append(10**(-pow))\n",
        "      error.append(np.linalg.norm(expected - result))\n",
        "      conditionNumber.append(np.linalg.cond(A))\n",
        "\n",
        "    table.add_column(\"Current Disturb\",currentDisturb)\n",
        "    table.add_column(\"Condition Number\", conditionNumber)\n",
        "    table.add_column(\"Error\", error)\n",
        "\n",
        "    plt.plot(conditionNumber, error, 'bo')\n",
        "    plt.xlabel(\"Conditional number\")\n",
        "    plt.ylabel(\"Error\")\n",
        "    plt.grid(True)\n",
        "    plot = plt\n",
        "\n",
        "    return table, plot"
      ],
      "execution_count": null,
      "outputs": []
    },
    {
      "cell_type": "code",
      "metadata": {
        "colab": {
          "base_uri": "https://localhost:8080/",
          "height": 625
        },
        "id": "AIu69du2EV2g",
        "outputId": "f25a148d-0248-4e88-a9c2-01f95d8ed760"
      },
      "source": [
        "size = 4\n",
        "report, plot = makeReport2(size, 15)\n",
        "print('Matrix size:', size)\n",
        "print(report)\n",
        "plot.show()"
      ],
      "execution_count": null,
      "outputs": [
        {
          "output_type": "stream",
          "text": [
            "Matrix size: 4\n",
            "+-----------------+--------------------+--------------------+\n",
            "| Current Disturb |  Condition Number  |       Error        |\n",
            "+-----------------+--------------------+--------------------+\n",
            "|       0.1       | 667.0001405147275  | 88.90197247873819  |\n",
            "|       0.01      | 164.35169898022338 | 24.052077685145573 |\n",
            "|      0.001      | 153.1362966973791  | 22.607432527248747 |\n",
            "|      0.0001     | 152.10160862684137 | 22.474177432953482 |\n",
            "|      1e-05      | 151.9989408846093  | 22.46095531019852  |\n",
            "|      1e-06      | 151.98868205882127 | 22.459634123908224 |\n",
            "|      1e-07      | 151.98765625566605 | 22.459502030598987 |\n",
            "|      1e-08      | 151.98755367614618 | 22.459488835154204 |\n",
            "|      1e-09      | 151.98754341819924 | 22.459488477259292 |\n",
            "|      1e-10      | 151.9875423924076  | 22.45947713282238  |\n",
            "|      1e-11      | 151.98754228982742 | 22.459513482810173 |\n",
            "|      1e-12      | 151.9875422795687  | 22.459502425871996 |\n",
            "|      1e-13      | 151.98754227854565 | 22.45440182051669  |\n",
            "|      1e-14      | 151.9875422784417  | 22.42856629322661  |\n",
            "|      1e-15      | 151.98754227843145 | 22.651793728002083 |\n",
            "+-----------------+--------------------+--------------------+\n"
          ],
          "name": "stdout"
        },
        {
          "output_type": "display_data",
          "data": {
            "image/png": "[encoded data removed]",
            "text/plain": [
              "<Figure size 432x288 with 1 Axes>"
            ]
          },
          "metadata": {
            "tags": [],
            "needs_background": "light"
          }
        }
      ]
    },
    {
      "cell_type": "code",
      "metadata": {
        "colab": {
          "base_uri": "https://localhost:8080/",
          "height": 625
        },
        "id": "LG7n-AE5HNQZ",
        "outputId": "d52dab5f-39ae-4245-9ac2-194eb7e49877"
      },
      "source": [
        "size = 6\n",
        "report, plot = makeReport2(size, 15)\n",
        "print('Matrix size:', size)\n",
        "print(report)\n",
        "plot.show()"
      ],
      "execution_count": null,
      "outputs": [
        {
          "output_type": "stream",
          "text": [
            "Matrix size: 6\n",
            "+-----------------+--------------------+--------------------+\n",
            "| Current Disturb |  Condition Number  |       Error        |\n",
            "+-----------------+--------------------+--------------------+\n",
            "|       0.1       | 7.329752281421082  | 1.001116272450059  |\n",
            "|       0.01      | 7.497943956444355  | 1.1172613426529396 |\n",
            "|      0.001      | 7.515174699798572  | 1.1290538902446232 |\n",
            "|      0.0001     | 7.516901970656371  | 1.1302349422675266 |\n",
            "|      1e-05      |  7.51707473978911  | 1.130353065459143  |\n",
            "|      1e-06      | 7.517092017122931  | 1.1303648779582158 |\n",
            "|      1e-07      | 7.517093744860523  | 1.1303660592099212 |\n",
            "|      1e-08      | 7.5170939176343285 | 1.1303661773351117 |\n",
            "|      1e-09      | 7.517093934911707  | 1.1303661891476307 |\n",
            "|      1e-10      | 7.517093936639442  | 1.1303661903288793 |\n",
            "|      1e-11      | 7.517093936812222  | 1.130366190447006  |\n",
            "|      1e-12      | 7.517093936829494  | 1.1303661904588165 |\n",
            "|      1e-13      | 7.5170939368312215 | 1.1303661904599986 |\n",
            "|      1e-14      | 7.517093936831392  | 1.1303661904601185 |\n",
            "|      1e-15      | 7.517093936831414  | 1.1303661904601305 |\n",
            "+-----------------+--------------------+--------------------+\n"
          ],
          "name": "stdout"
        },
        {
          "output_type": "display_data",
          "data": {
            "image/png": "[encoded data removed]",
            "text/plain": [
              "<Figure size 432x288 with 1 Axes>"
            ]
          },
          "metadata": {
            "tags": [],
            "needs_background": "light"
          }
        }
      ]
    },
    {
      "cell_type": "code",
      "metadata": {
        "colab": {
          "base_uri": "https://localhost:8080/",
          "height": 625
        },
        "id": "Ii2FQ5iKKIkM",
        "outputId": "3c6b68b4-3fa8-4c44-e91f-99853106d8ed"
      },
      "source": [
        "size = 8\n",
        "report, plot = makeReport2(size, 15)\n",
        "print('Matrix size:', size)\n",
        "print(report)\n",
        "plot.show()"
      ],
      "execution_count": null,
      "outputs": [
        {
          "output_type": "stream",
          "text": [
            "Matrix size: 8\n",
            "+-----------------+--------------------+--------------------+\n",
            "| Current Disturb |  Condition Number  |       Error        |\n",
            "+-----------------+--------------------+--------------------+\n",
            "|       0.1       | 4.856192220625942  | 0.6099912051252386 |\n",
            "|       0.01      | 4.906570678462738  | 0.6754387190382324 |\n",
            "|      0.001      | 4.911679959520781  | 0.6820321721286763 |\n",
            "|      0.0001     | 4.9121916121050235 | 0.6826920091007637 |\n",
            "|      1e-05      | 4.912242784618497  | 0.6827579977192955 |\n",
            "|      1e-06      | 4.9122479019424095 | 0.6827645966303671 |\n",
            "|      1e-07      | 4.912248413675523  | 0.6827652565219671 |\n",
            "|      1e-08      | 4.912248464848845  | 0.6827653225111298 |\n",
            "|      1e-09      | 4.912248469966175  | 0.6827653291100473 |\n",
            "|      1e-10      |  4.91224847047791  | 0.6827653297699392 |\n",
            "|      1e-11      | 4.912248470529085  | 0.6827653298359294 |\n",
            "|      1e-12      | 4.912248470534201  | 0.6827653298425289 |\n",
            "|      1e-13      | 4.912248470534713  | 0.6827653298431873 |\n",
            "|      1e-14      | 4.912248470534764  | 0.6827653298432529 |\n",
            "|      1e-15      | 4.9122484705347675 | 0.6827653298432599 |\n",
            "+-----------------+--------------------+--------------------+\n"
          ],
          "name": "stdout"
        },
        {
          "output_type": "display_data",
          "data": {
            "image/png": "[encoded data removed]",
            "text/plain": [
              "<Figure size 432x288 with 1 Axes>"
            ]
          },
          "metadata": {
            "tags": [],
            "needs_background": "light"
          }
        }
      ]
    }
  ]
}